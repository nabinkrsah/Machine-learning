{
 "cells": [
  {
   "cell_type": "markdown",
   "metadata": {},
   "source": [
    "#irctc code one\n"
   ]
  },
  {
   "cell_type": "code",
   "execution_count": 34,
   "metadata": {},
   "outputs": [
    {
     "name": "stdout",
     "output_type": "stream",
     "text": [
      "             Date Month  Day     Price      Open      High       Low   Volume  \\\n",
      "0    Jun 29, 2021   Jun  Tue  2,081.85  2,092.00  2,126.90  2,065.05    1.67M   \n",
      "1    Jun 28, 2021   Jun  Mon  2,077.75  2,084.00  2,112.45  2,068.40  707.73K   \n",
      "2    Jun 25, 2021   Jun  Fri  2,068.85  2,084.35  2,088.50  2,053.10  475.82K   \n",
      "3    Jun 24, 2021   Jun  Thu  2,072.95  2,098.00  2,098.00  2,066.00  541.51K   \n",
      "4    Jun 23, 2021   Jun  Wed  2,078.25  2,102.00  2,111.40  2,072.00  809.62K   \n",
      "..            ...   ...  ...       ...       ...       ...       ...      ...   \n",
      "244  Jul 07, 2020   Jul  Tue  1,397.40  1,410.00  1,411.00  1,390.05  480.21K   \n",
      "245  Jul 06, 2020   Jul  Mon  1,400.75  1,405.50  1,415.50  1,394.00  614.93K   \n",
      "246  Jul 03, 2020   Jul  Fri  1,405.10  1,415.00  1,425.00  1,398.00  599.49K   \n",
      "247  Jul 02, 2020   Jul  Thu  1,412.35  1,440.00  1,467.80  1,395.30    2.16M   \n",
      "248  Jul 01, 2020   Jul  Wed  1,363.05  1,363.65  1,377.00  1,356.00  383.00K   \n",
      "\n",
      "       Chg%  \n",
      "0     0.20%  \n",
      "1     0.43%  \n",
      "2    -0.20%  \n",
      "3    -0.26%  \n",
      "4    -0.23%  \n",
      "..      ...  \n",
      "244  -0.24%  \n",
      "245  -0.31%  \n",
      "246  -0.51%  \n",
      "247   3.62%  \n",
      "248   0.32%  \n",
      "\n",
      "[249 rows x 9 columns]\n"
     ]
    }
   ],
   "source": [
    "import pandas as pd\n",
    "import numpy as np\n",
    "import statistics as st\n",
    "import matplotlib.pyplot as plt\n",
    "df=pd.read_csv('Lab session1.csv')\n",
    "df = df.loc[:, ~df.columns.str.contains('Unnamed')]\n",
    "df = df.dropna()\n",
    "print(df)"
   ]
  },
  {
   "cell_type": "code",
   "execution_count": 35,
   "metadata": {},
   "outputs": [
    {
     "name": "stdout",
     "output_type": "stream",
     "text": [
      "Mean of the Price data: 1560.663453815261\n",
      "Variance of the Price data: 58732.365352539186\n"
     ]
    }
   ],
   "source": [
    "df['Price'] = df['Price'].str.replace(',', '').str.extract('(\\d+\\.\\d+)').astype(float)\n",
    "\n",
    "# Calculate the mean and variance of the 'Price' column\n",
    "mean_price = st.mean(df['Price'])\n",
    "variance_price = st.variance(df['Price'])\n",
    "\n",
    "print(\"Mean of the Price data:\", mean_price)\n",
    "print(\"Variance of the Price data:\", variance_price)"
   ]
  },
  {
   "cell_type": "code",
   "execution_count": 36,
   "metadata": {},
   "outputs": [
    {
     "name": "stdout",
     "output_type": "stream",
     "text": [
      "Mean of price data for all Wednesdays is lesser than the mean of all price\n"
     ]
    }
   ],
   "source": [
    "#Select the price data for all Wednesdays and calculate the sample mean. Compare the mean \n",
    "#with the population mean and note your observations.\n",
    "Wed = df[df['Day']=='Wed']\n",
    "# print(Wed.head())\n",
    "\n",
    "Wed_mean = st.mean(Wed['Price'])\n",
    "# print(\"Sample mean: \",Wed_mean)\n",
    "\n",
    "# Comparing the sample mean with population mean\n",
    "if Wed_mean < mean_price:\n",
    "    print(\"Mean of price data for all Wednesdays is lesser than the mean of all price\")\n",
    "else:\n",
    "    print(\"Mean of price data for all Wednesdays is greater than the mean of all price\")"
   ]
  },
  {
   "cell_type": "code",
   "execution_count": 37,
   "metadata": {},
   "outputs": [
    {
     "name": "stdout",
     "output_type": "stream",
     "text": [
      "Mean of price of April month:  1698.9526315789474\n",
      "Population mean is greater than the sample mean of April month\n"
     ]
    }
   ],
   "source": [
    "# Select the price data for the month of Apr and calculate the sample mean. Compare the\n",
    "# mean with the population mean and note your observations.\n",
    "Apr_data = df[df['Month']=='Apr']\n",
    "Apr_mean = st.mean(Apr_data['Price'])\n",
    "print(\"Mean of price of April month: \",Apr_mean)\n",
    "\n",
    "if Apr_mean < mean_price:\n",
    "    print(\"Population mean is greater than the sample mean of April month\")\n",
    "else:\n",
    "    print(\"Population mean is greater than the sample mean of April month\")"
   ]
  },
  {
   "cell_type": "code",
   "execution_count": 38,
   "metadata": {},
   "outputs": [
    {
     "name": "stdout",
     "output_type": "stream",
     "text": [
      "Probability of profit on Wednesday       :  0.4032258064516129\n"
     ]
    }
   ],
   "source": [
    "'''Calculate the probability of making a profit on Wednesday.'''\n",
    "df['Chg%'] = df['Chg%'].str.rstrip('%').astype(float)\n",
    "profit = df[df['Chg%']>0]\n",
    "profit_wed = len(Wed)/len(profit) \n",
    "# Wed data we have calculated earlier\n",
    "print(\"Probability of profit on Wednesday       : \",profit_wed)"
   ]
  },
  {
   "cell_type": "code",
   "execution_count": 42,
   "metadata": {},
   "outputs": [
    {
     "ename": "TypeError",
     "evalue": "'>' not supported between instances of 'str' and 'int'",
     "output_type": "error",
     "traceback": [
      "\u001b[1;31m---------------------------------------------------------------------------\u001b[0m",
      "\u001b[1;31mTypeError\u001b[0m                                 Traceback (most recent call last)",
      "Cell \u001b[1;32mIn[42], line 5\u001b[0m\n\u001b[0;32m      2\u001b[0m Total_wed \u001b[39m=\u001b[39m \u001b[39mlen\u001b[39m(Wed)\n\u001b[0;32m      3\u001b[0m \u001b[39m#df['Chg%'] = df['Chg%'].str.rstrip('%').astype(float)\u001b[39;00m\n\u001b[0;32m      4\u001b[0m \u001b[39m#Total_profit = len(profit)\u001b[39;00m\n\u001b[1;32m----> 5\u001b[0m profit_on_Wed \u001b[39m=\u001b[39m \u001b[39mlen\u001b[39m(Wed[\u001b[39m'\u001b[39m\u001b[39mChg\u001b[39m\u001b[39m%\u001b[39m\u001b[39m'\u001b[39m]\u001b[39m>\u001b[39m\u001b[39m0\u001b[39m)\n\u001b[0;32m      6\u001b[0m Cnd_pr \u001b[39m=\u001b[39m profit_on_Wed\u001b[39m/\u001b[39mTotal_wed\n\u001b[0;32m      7\u001b[0m \u001b[39mprint\u001b[39m(\u001b[39m\"\u001b[39m\u001b[39mConditional probability: \u001b[39m\u001b[39m\"\u001b[39m,Cnd_pr)\n",
      "File \u001b[1;32mc:\\ProgramData\\anaconda3\\Lib\\site-packages\\pandas\\core\\ops\\common.py:72\u001b[0m, in \u001b[0;36m_unpack_zerodim_and_defer.<locals>.new_method\u001b[1;34m(self, other)\u001b[0m\n\u001b[0;32m     68\u001b[0m             \u001b[39mreturn\u001b[39;00m \u001b[39mNotImplemented\u001b[39m\n\u001b[0;32m     70\u001b[0m other \u001b[39m=\u001b[39m item_from_zerodim(other)\n\u001b[1;32m---> 72\u001b[0m \u001b[39mreturn\u001b[39;00m method(\u001b[39mself\u001b[39m, other)\n",
      "File \u001b[1;32mc:\\ProgramData\\anaconda3\\Lib\\site-packages\\pandas\\core\\arraylike.py:58\u001b[0m, in \u001b[0;36mOpsMixin.__gt__\u001b[1;34m(self, other)\u001b[0m\n\u001b[0;32m     56\u001b[0m \u001b[39m@unpack_zerodim_and_defer\u001b[39m(\u001b[39m\"\u001b[39m\u001b[39m__gt__\u001b[39m\u001b[39m\"\u001b[39m)\n\u001b[0;32m     57\u001b[0m \u001b[39mdef\u001b[39;00m \u001b[39m__gt__\u001b[39m(\u001b[39mself\u001b[39m, other):\n\u001b[1;32m---> 58\u001b[0m     \u001b[39mreturn\u001b[39;00m \u001b[39mself\u001b[39m\u001b[39m.\u001b[39m_cmp_method(other, operator\u001b[39m.\u001b[39mgt)\n",
      "File \u001b[1;32mc:\\ProgramData\\anaconda3\\Lib\\site-packages\\pandas\\core\\series.py:6243\u001b[0m, in \u001b[0;36mSeries._cmp_method\u001b[1;34m(self, other, op)\u001b[0m\n\u001b[0;32m   6240\u001b[0m rvalues \u001b[39m=\u001b[39m extract_array(other, extract_numpy\u001b[39m=\u001b[39m\u001b[39mTrue\u001b[39;00m, extract_range\u001b[39m=\u001b[39m\u001b[39mTrue\u001b[39;00m)\n\u001b[0;32m   6242\u001b[0m \u001b[39mwith\u001b[39;00m np\u001b[39m.\u001b[39merrstate(\u001b[39mall\u001b[39m\u001b[39m=\u001b[39m\u001b[39m\"\u001b[39m\u001b[39mignore\u001b[39m\u001b[39m\"\u001b[39m):\n\u001b[1;32m-> 6243\u001b[0m     res_values \u001b[39m=\u001b[39m ops\u001b[39m.\u001b[39mcomparison_op(lvalues, rvalues, op)\n\u001b[0;32m   6245\u001b[0m \u001b[39mreturn\u001b[39;00m \u001b[39mself\u001b[39m\u001b[39m.\u001b[39m_construct_result(res_values, name\u001b[39m=\u001b[39mres_name)\n",
      "File \u001b[1;32mc:\\ProgramData\\anaconda3\\Lib\\site-packages\\pandas\\core\\ops\\array_ops.py:287\u001b[0m, in \u001b[0;36mcomparison_op\u001b[1;34m(left, right, op)\u001b[0m\n\u001b[0;32m    284\u001b[0m     \u001b[39mreturn\u001b[39;00m invalid_comparison(lvalues, rvalues, op)\n\u001b[0;32m    286\u001b[0m \u001b[39melif\u001b[39;00m is_object_dtype(lvalues\u001b[39m.\u001b[39mdtype) \u001b[39mor\u001b[39;00m \u001b[39misinstance\u001b[39m(rvalues, \u001b[39mstr\u001b[39m):\n\u001b[1;32m--> 287\u001b[0m     res_values \u001b[39m=\u001b[39m comp_method_OBJECT_ARRAY(op, lvalues, rvalues)\n\u001b[0;32m    289\u001b[0m \u001b[39melse\u001b[39;00m:\n\u001b[0;32m    290\u001b[0m     res_values \u001b[39m=\u001b[39m _na_arithmetic_op(lvalues, rvalues, op, is_cmp\u001b[39m=\u001b[39m\u001b[39mTrue\u001b[39;00m)\n",
      "File \u001b[1;32mc:\\ProgramData\\anaconda3\\Lib\\site-packages\\pandas\\core\\ops\\array_ops.py:75\u001b[0m, in \u001b[0;36mcomp_method_OBJECT_ARRAY\u001b[1;34m(op, x, y)\u001b[0m\n\u001b[0;32m     73\u001b[0m     result \u001b[39m=\u001b[39m libops\u001b[39m.\u001b[39mvec_compare(x\u001b[39m.\u001b[39mravel(), y\u001b[39m.\u001b[39mravel(), op)\n\u001b[0;32m     74\u001b[0m \u001b[39melse\u001b[39;00m:\n\u001b[1;32m---> 75\u001b[0m     result \u001b[39m=\u001b[39m libops\u001b[39m.\u001b[39mscalar_compare(x\u001b[39m.\u001b[39mravel(), y, op)\n\u001b[0;32m     76\u001b[0m \u001b[39mreturn\u001b[39;00m result\u001b[39m.\u001b[39mreshape(x\u001b[39m.\u001b[39mshape)\n",
      "File \u001b[1;32mc:\\ProgramData\\anaconda3\\Lib\\site-packages\\pandas\\_libs\\ops.pyx:107\u001b[0m, in \u001b[0;36mpandas._libs.ops.scalar_compare\u001b[1;34m()\u001b[0m\n",
      "\u001b[1;31mTypeError\u001b[0m: '>' not supported between instances of 'str' and 'int'"
     ]
    }
   ],
   "source": [
    "'''Calculate the conditional probability of making profit, given that today is Wednesday.'''\n",
    "Total_wed = len(Wed)\n",
    "#Total_profit = len(profit)\n",
    "profit_on_Wed = len(Wed['Chg%']>0)\n",
    "Cnd_pr = profit_on_Wed/Total_wed\n",
    "print(\"Conditional probability: \",Cnd_pr)"
   ]
  }
 ],
 "metadata": {
  "kernelspec": {
   "display_name": "base",
   "language": "python",
   "name": "python3"
  },
  "language_info": {
   "codemirror_mode": {
    "name": "ipython",
    "version": 3
   },
   "file_extension": ".py",
   "mimetype": "text/x-python",
   "name": "python",
   "nbconvert_exporter": "python",
   "pygments_lexer": "ipython3",
   "version": "3.11.4"
  },
  "orig_nbformat": 4
 },
 "nbformat": 4,
 "nbformat_minor": 2
}
