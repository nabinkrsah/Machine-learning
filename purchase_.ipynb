{
 "cells": [
  {
   "cell_type": "code",
   "execution_count": 26,
   "metadata": {},
   "outputs": [
    {
     "name": "stdout",
     "output_type": "stream",
     "text": [
      "  Customer  Candies (#)  Mangoes (Kg)  Milk Packets (#)  Payment (Rs)\n",
      "0      C_1           20             6                 2           386\n",
      "1      C_2           16             3                 6           289\n",
      "2      C_3           27             6                 2           393\n",
      "3      C_4           19             1                 2           110\n",
      "4      C_5           24             4                 2           280\n",
      "5      C_6           22             1                 5           167\n",
      "6      C_7           15             4                 2           271\n",
      "7      C_8           18             4                 2           274\n",
      "8      C_9           21             1                 4           148\n",
      "9     C_10           16             2                 4           198\n"
     ]
    }
   ],
   "source": [
    "import pandas as pd\n",
    "import numpy as np\n",
    "import statistics as st\n",
    "import matplotlib.pyplot as plt\n",
    "df=pd.read_csv('lab1_pr.csv')\n",
    "print(df.to_string())\n"
   ]
  },
  {
   "cell_type": "code",
   "execution_count": 15,
   "metadata": {},
   "outputs": [],
   "source": [
    "data_A=['Candies (#)','Mangoes (Kg)','Milk Packets (#)']\n",
    "data_B=['Payment (Rs)']"
   ]
  },
  {
   "cell_type": "code",
   "execution_count": 16,
   "metadata": {},
   "outputs": [],
   "source": [
    "matrix_A=df[data_A].values\n",
    "matrix_B=df[data_B].values"
   ]
  },
  {
   "cell_type": "code",
   "execution_count": 17,
   "metadata": {},
   "outputs": [
    {
     "name": "stdout",
     "output_type": "stream",
     "text": [
      "[[20  6  2]\n",
      " [16  3  6]\n",
      " [27  6  2]\n",
      " [19  1  2]\n",
      " [24  4  2]\n",
      " [22  1  5]\n",
      " [15  4  2]\n",
      " [18  4  2]\n",
      " [21  1  4]\n",
      " [16  2  4]]\n"
     ]
    }
   ],
   "source": [
    "#to print the matrix A\n",
    "print(matrix_A)\n"
   ]
  },
  {
   "cell_type": "code",
   "execution_count": 18,
   "metadata": {},
   "outputs": [
    {
     "name": "stdout",
     "output_type": "stream",
     "text": [
      "[[386]\n",
      " [289]\n",
      " [393]\n",
      " [110]\n",
      " [280]\n",
      " [167]\n",
      " [271]\n",
      " [274]\n",
      " [148]\n",
      " [198]]\n"
     ]
    }
   ],
   "source": [
    "#to print the matrix B\n",
    "print(matrix_B)"
   ]
  },
  {
   "cell_type": "code",
   "execution_count": 19,
   "metadata": {},
   "outputs": [
    {
     "name": "stdout",
     "output_type": "stream",
     "text": [
      "Dimensionality of the matrix_A is: 3\n",
      "Dimensionality of the matrix_B is: 1\n"
     ]
    }
   ],
   "source": [
    "#to find the dimensionality of the matrix_A\n",
    "dimensionality = len(data_A)\n",
    "\n",
    "print(\"Dimensionality of the matrix_A is:\", dimensionality)\n",
    "# to find the dimensionality of the matrix_B\n",
    "dimensionality =len(data_B)\n",
    "\n",
    "print(\"Dimensionality of the matrix_B is:\", dimensionality)"
   ]
  },
  {
   "cell_type": "code",
   "execution_count": 20,
   "metadata": {},
   "outputs": [
    {
     "name": "stdout",
     "output_type": "stream",
     "text": [
      " dimensionality of the vector space for this data is: 4\n"
     ]
    }
   ],
   "source": [
    "#What is the dimensionality of the vector space for this data?\n",
    "dim=len(data_A)+len(data_B)\n",
    "print(\" dimensionality of the vector space for this data is:\",dim)"
   ]
  },
  {
   "cell_type": "code",
   "execution_count": 21,
   "metadata": {},
   "outputs": [
    {
     "name": "stdout",
     "output_type": "stream",
     "text": [
      "Number of vectors in the vector space: 10\n"
     ]
    }
   ],
   "source": [
    "num_vectors =len(df)\n",
    "print(\"Number of vectors in the vector space:\", num_vectors)"
   ]
  },
  {
   "cell_type": "code",
   "execution_count": 22,
   "metadata": {},
   "outputs": [
    {
     "name": "stdout",
     "output_type": "stream",
     "text": [
      "Rank of the matrix A is : 3\n"
     ]
    }
   ],
   "source": [
    "#the rank of the matrix A is\n",
    "rank = np.linalg.matrix_rank(matrix_A)\n",
    "\n",
    "print(\"Rank of the matrix A is :\", rank)"
   ]
  },
  {
   "cell_type": "code",
   "execution_count": 23,
   "metadata": {},
   "outputs": [
    {
     "name": "stdout",
     "output_type": "stream",
     "text": [
      "Cost of one candy: [1.]\n",
      "Cost of one kilogram of mangoes: [55.]\n",
      "Cost of one milk packet: [18.]\n"
     ]
    }
   ],
   "source": [
    "'''The code first creates a matrix of the given data, where each row represents a customer and each column represents a product. \n",
    "The Pseudo-Inverse of the matrix is then calculated using the numpy.linalg.pinv() function. \n",
    "Finally, the cost of each product is obtained by multiplying the Pseudo-Inverse with the Payment column. \n",
    "The resulting cost of each product is printed as output.\n",
    "Overall, the code uses the Pseudo-Inverse method to solve a system of linear equations and find the cost of each product available for sale.'''\n",
    "# Calculate the pseudo-inverse of A\n",
    "A_pseudo_inv = np.linalg.pinv(matrix_A)\n",
    "\n",
    "# Calculate the cost vector x\n",
    "x = np.dot(A_pseudo_inv, matrix_B)\n",
    "\n",
    "# Extract the individual costs\n",
    "C_candies, C_mangoes, C_milk_packets = x\n",
    "\n",
    "# Print the results\n",
    "print(\"Cost of one candy:\", C_candies)\n",
    "print(\"Cost of one kilogram of mangoes:\", C_mangoes)\n",
    "print(\"Cost of one milk packet:\", C_milk_packets)"
   ]
  },
  {
   "cell_type": "code",
   "execution_count": 24,
   "metadata": {},
   "outputs": [
    {
     "name": "stdout",
     "output_type": "stream",
     "text": [
      "Dimension of the data fram:  (10, 5)\n"
     ]
    }
   ],
   "source": [
    "#to find the dimension of the data frame\n",
    "print(\"Dimension of the data fram: \",df.shape)"
   ]
  },
  {
   "cell_type": "code",
   "execution_count": 25,
   "metadata": {},
   "outputs": [
    {
     "name": "stdout",
     "output_type": "stream",
     "text": [
      "  Customer  Candies (#)  Mangoes (Kg)  Milk Packets (#)  Payment (Rs)  \\\n",
      "0      C_1           20             6                 2           386   \n",
      "1      C_2           16             3                 6           289   \n",
      "2      C_3           27             6                 2           393   \n",
      "3      C_4           19             1                 2           110   \n",
      "4      C_5           24             4                 2           280   \n",
      "\n",
      "  Purchase Category  \n",
      "0              Rich  \n",
      "1              Rich  \n",
      "2              Rich  \n",
      "3              Poor  \n",
      "4              Rich  \n"
     ]
    }
   ],
   "source": [
    "#A3. Mark all customers (in “Purchase Data” table) with payments above Rs. 200 as RICH and others \n",
    "#as POOR. Develop a classifier model to categorize customers into RICH or POOR class based on \n",
    "#purchase behavior'''\n",
    "df['Purchase Category'] = df['Payment (Rs)'].apply(lambda x: 'Rich' if x > 200 else 'Poor')\n",
    "print(df.head())\n"
   ]
  }
 ],
 "metadata": {
  "kernelspec": {
   "display_name": "base",
   "language": "python",
   "name": "python3"
  },
  "language_info": {
   "codemirror_mode": {
    "name": "ipython",
    "version": 3
   },
   "file_extension": ".py",
   "mimetype": "text/x-python",
   "name": "python",
   "nbconvert_exporter": "python",
   "pygments_lexer": "ipython3",
   "version": "3.11.4"
  },
  "orig_nbformat": 4
 },
 "nbformat": 4,
 "nbformat_minor": 2
}
